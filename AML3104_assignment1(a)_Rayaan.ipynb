{
  "cells": [
    {
      "cell_type": "code",
      "execution_count": 3,
      "metadata": {
        "colab": {
          "base_uri": "https://localhost:8080/"
        },
        "id": "rypqPfvqQhYS",
        "outputId": "bfd59490-dd96-4d62-d3ef-c50b14570253"
      },
      "outputs": [
        {
          "name": "stdout",
          "output_type": "stream",
          "text": [
            "Drive already mounted at /content/drive; to attempt to forcibly remount, call drive.mount(\"/content/drive\", force_remount=True).\n"
          ]
        }
      ],
      "source": [
        "# Mounting the  Google Drive to access files\n",
        "from google.colab import drive\n",
        "drive.mount('/content/drive')"
      ]
    },
    {
      "cell_type": "code",
      "execution_count": 5,
      "metadata": {
        "colab": {
          "base_uri": "https://localhost:8080/"
        },
        "id": "0WdTuxRQQqsm",
        "outputId": "2aadd54b-7f98-4e33-adb2-6a988ab8a234"
      },
      "outputs": [
        {
          "name": "stdout",
          "output_type": "stream",
          "text": [
            "   Temperature    RH    Ws       Rain       FFMC        DMC         DC  \\\n",
            "0         32.0  60.0  11.0  14.565610  43.523206  13.219656   8.190078   \n",
            "1         31.0  89.0  20.0   8.005526  78.429712   9.380204  30.137823   \n",
            "2         23.0  50.0  29.0   4.703008  87.649196  19.537703   7.068724   \n",
            "3         34.0  77.0  21.0  14.917224  79.691050  10.760914  11.572515   \n",
            "4         38.0  72.0  26.0   9.724873  88.619284   3.630504  16.476522   \n",
            "\n",
            "        ISI        BUI  Region  Classes_encoded  \n",
            "0  0.149587  18.578830     1.0              1.0  \n",
            "1  1.302932  16.475291     0.0              0.0  \n",
            "2  0.149146  12.049657     1.0              1.0  \n",
            "3  4.639892  12.817558     1.0              1.0  \n",
            "4  3.237329   9.426771     0.0              0.0  \n"
          ]
        }
      ],
      "source": [
        "import pandas as pd\n",
        "import numpy as np\n",
        "import pickle\n",
        "\n",
        "# Defining the size of the dataset\n",
        "num_samples = 5\n",
        "\n",
        "# Generating random data\n",
        "Temperature = np.random.randint(20, 40, size=num_samples)\n",
        "RH = np.random.randint(50, 90, size=num_samples)\n",
        "Ws = np.random.randint(10, 30, size=num_samples)\n",
        "Rain = np.random.uniform(0, 15, size=num_samples)\n",
        "FFMC = np.random.uniform(40, 90, size=num_samples)\n",
        "DMC = np.random.uniform(1, 20, size=num_samples)\n",
        "DC = np.random.uniform(5, 50, size=num_samples)\n",
        "ISI = np.random.uniform(0, 5, size=num_samples)\n",
        "BUI = np.random.uniform(1, 20, size=num_samples)\n",
        "FWI = np.random.uniform(0, 5, size=num_samples)\n",
        "Region = np.random.randint(0, 2, size=num_samples)\n",
        "Classes_encoded = np.random.randint(0, 2, size=num_samples)\n",
        "\n",
        "# Creating a DataFrame\n",
        "df = pd.DataFrame({\n",
        "    'Temperature': Temperature,\n",
        "    'RH': RH,\n",
        "    'Ws': Ws,\n",
        "    'Rain': Rain,\n",
        "    'FFMC': FFMC,\n",
        "    'DMC': DMC,\n",
        "    'DC': DC,\n",
        "    'ISI': ISI,\n",
        "    'BUI': BUI,\n",
        "    'Region': Region,\n",
        "    'Classes_encoded': Classes_encoded\n",
        "})\n",
        "\n",
        "df = df.astype(float)\n",
        "\n",
        "# Display the first few rows of the DataFrame\n",
        "print(df.head())"
      ]
    },
    {
      "cell_type": "code",
      "execution_count": 6,
      "metadata": {
        "id": "Fds3w90vQUM7"
      },
      "outputs": [],
      "source": [
        "\n",
        "scale_new_data = pickle.load(open('/content/drive/MyDrive/AlgerianForestFire/scaler.pkl', 'rb'))\n",
        "lr_model = pickle.load(open('/content/drive/MyDrive/AlgerianForestFire/lr_fire.pkl', 'rb'))"
      ]
    },
    {
      "cell_type": "code",
      "execution_count": 7,
      "metadata": {
        "id": "5J19K34XQ5ro"
      },
      "outputs": [],
      "source": [
        "df_scaled = scale_new_data.transform(df)"
      ]
    },
    {
      "cell_type": "code",
      "execution_count": 8,
      "metadata": {
        "colab": {
          "base_uri": "https://localhost:8080/"
        },
        "id": "tU0qQGqBQ7Kw",
        "outputId": "b0c54a93-5172-45a7-c0c0-aa511c859ef6"
      },
      "outputs": [
        {
          "data": {
            "text/plain": [
              "array([ 2.64796171,  1.22743485, -1.88076839,  4.58782064,  1.35683525])"
            ]
          },
          "execution_count": 8,
          "metadata": {},
          "output_type": "execute_result"
        }
      ],
      "source": [
        "y_pred_new = lr_model.predict(df_scaled)\n",
        "y_pred_new"
      ]
    }
  ],
  "metadata": {
    "colab": {
      "provenance": []
    },
    "kernelspec": {
      "display_name": "Python 3",
      "name": "python3"
    },
    "language_info": {
      "name": "python"
    }
  },
  "nbformat": 4,
  "nbformat_minor": 0
}
