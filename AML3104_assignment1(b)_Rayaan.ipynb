{
  "cells": [
    {
      "cell_type": "code",
      "execution_count": null,
      "metadata": {
        "colab": {
          "base_uri": "https://localhost:8080/"
        },
        "id": "3hWFvzS2ZUXl",
        "outputId": "e112e87e-ebb2-4a5f-9b53-e8b6e81fc93b"
      },
      "outputs": [
        {
          "name": "stdout",
          "output_type": "stream",
          "text": [
            "Mounted at /content/drive\n"
          ]
        }
      ],
      "source": [
        "#RAYAAN AGARWAL (c0887055)\n",
        "# Step 1: Mounting the Google Drive to access files\n",
        "from google.colab import drive\n",
        "drive.mount('/content/drive')\n"
      ]
    },
    {
      "cell_type": "code",
      "execution_count": null,
      "metadata": {
        "id": "_ee3uSb9JXCF"
      },
      "outputs": [],
      "source": [
        "# Step 2: Importing all the necessary libraries\n",
        "import pandas as pd\n",
        "import numpy as np\n",
        "import matplotlib.pyplot as plt\n",
        "from sklearn.model_selection import train_test_split\n",
        "from sklearn.linear_model import LinearRegression\n",
        "from sklearn.metrics import mean_squared_error, r2_score, mean_absolute_error\n",
        "from sklearn.preprocessing import StandardScaler, minmax_scale\n",
        "import seaborn as sns\n",
        "import pickle\n",
        "%matplotlib inline"
      ]
    },
    {
      "cell_type": "code",
      "execution_count": null,
      "metadata": {
        "id": "RJ3EYHxeJZai"
      },
      "outputs": [],
      "source": [
        "# Step 3: Converting dataset to dataframe\n",
        "df = pd.read_csv('/content/drive/MyDrive/AlgerianForestFire/Algerian_forest_fires_cleaned.csv')"
      ]
    },
    {
      "cell_type": "code",
      "execution_count": null,
      "metadata": {
        "colab": {
          "base_uri": "https://localhost:8080/",
          "height": 226
        },
        "id": "Iy6fnqkYKJ_x",
        "outputId": "cc4b8510-8746-4628-e837-7621e4317413"
      },
      "outputs": [
        {
          "data": {
            "text/html": [
              "\n",
              "  <div id=\"df-1a43b36f-c196-433c-9f12-67d8177c784a\" class=\"colab-df-container\">\n",
              "    <div>\n",
              "<style scoped>\n",
              "    .dataframe tbody tr th:only-of-type {\n",
              "        vertical-align: middle;\n",
              "    }\n",
              "\n",
              "    .dataframe tbody tr th {\n",
              "        vertical-align: top;\n",
              "    }\n",
              "\n",
              "    .dataframe thead th {\n",
              "        text-align: right;\n",
              "    }\n",
              "</style>\n",
              "<table border=\"1\" class=\"dataframe\">\n",
              "  <thead>\n",
              "    <tr style=\"text-align: right;\">\n",
              "      <th></th>\n",
              "      <th>day</th>\n",
              "      <th>month</th>\n",
              "      <th>year</th>\n",
              "      <th>Temperature</th>\n",
              "      <th>RH</th>\n",
              "      <th>Ws</th>\n",
              "      <th>Rain</th>\n",
              "      <th>FFMC</th>\n",
              "      <th>DMC</th>\n",
              "      <th>DC</th>\n",
              "      <th>ISI</th>\n",
              "      <th>BUI</th>\n",
              "      <th>FWI</th>\n",
              "      <th>Classes</th>\n",
              "      <th>Region</th>\n",
              "    </tr>\n",
              "  </thead>\n",
              "  <tbody>\n",
              "    <tr>\n",
              "      <th>0</th>\n",
              "      <td>1</td>\n",
              "      <td>6</td>\n",
              "      <td>2012</td>\n",
              "      <td>29</td>\n",
              "      <td>57</td>\n",
              "      <td>18</td>\n",
              "      <td>0.0</td>\n",
              "      <td>65.7</td>\n",
              "      <td>3.4</td>\n",
              "      <td>7.6</td>\n",
              "      <td>1.3</td>\n",
              "      <td>3.4</td>\n",
              "      <td>0.5</td>\n",
              "      <td>not fire</td>\n",
              "      <td>0</td>\n",
              "    </tr>\n",
              "    <tr>\n",
              "      <th>1</th>\n",
              "      <td>2</td>\n",
              "      <td>6</td>\n",
              "      <td>2012</td>\n",
              "      <td>29</td>\n",
              "      <td>61</td>\n",
              "      <td>13</td>\n",
              "      <td>1.3</td>\n",
              "      <td>64.4</td>\n",
              "      <td>4.1</td>\n",
              "      <td>7.6</td>\n",
              "      <td>1.0</td>\n",
              "      <td>3.9</td>\n",
              "      <td>0.4</td>\n",
              "      <td>not fire</td>\n",
              "      <td>0</td>\n",
              "    </tr>\n",
              "    <tr>\n",
              "      <th>2</th>\n",
              "      <td>3</td>\n",
              "      <td>6</td>\n",
              "      <td>2012</td>\n",
              "      <td>26</td>\n",
              "      <td>82</td>\n",
              "      <td>22</td>\n",
              "      <td>13.1</td>\n",
              "      <td>47.1</td>\n",
              "      <td>2.5</td>\n",
              "      <td>7.1</td>\n",
              "      <td>0.3</td>\n",
              "      <td>2.7</td>\n",
              "      <td>0.1</td>\n",
              "      <td>not fire</td>\n",
              "      <td>0</td>\n",
              "    </tr>\n",
              "    <tr>\n",
              "      <th>3</th>\n",
              "      <td>4</td>\n",
              "      <td>6</td>\n",
              "      <td>2012</td>\n",
              "      <td>25</td>\n",
              "      <td>89</td>\n",
              "      <td>13</td>\n",
              "      <td>2.5</td>\n",
              "      <td>28.6</td>\n",
              "      <td>1.3</td>\n",
              "      <td>6.9</td>\n",
              "      <td>0.0</td>\n",
              "      <td>1.7</td>\n",
              "      <td>0.0</td>\n",
              "      <td>not fire</td>\n",
              "      <td>0</td>\n",
              "    </tr>\n",
              "    <tr>\n",
              "      <th>4</th>\n",
              "      <td>5</td>\n",
              "      <td>6</td>\n",
              "      <td>2012</td>\n",
              "      <td>27</td>\n",
              "      <td>77</td>\n",
              "      <td>16</td>\n",
              "      <td>0.0</td>\n",
              "      <td>64.8</td>\n",
              "      <td>3.0</td>\n",
              "      <td>14.2</td>\n",
              "      <td>1.2</td>\n",
              "      <td>3.9</td>\n",
              "      <td>0.5</td>\n",
              "      <td>not fire</td>\n",
              "      <td>0</td>\n",
              "    </tr>\n",
              "  </tbody>\n",
              "</table>\n",
              "</div>\n",
              "    <div class=\"colab-df-buttons\">\n",
              "\n",
              "  <div class=\"colab-df-container\">\n",
              "    <button class=\"colab-df-convert\" onclick=\"convertToInteractive('df-1a43b36f-c196-433c-9f12-67d8177c784a')\"\n",
              "            title=\"Convert this dataframe to an interactive table.\"\n",
              "            style=\"display:none;\">\n",
              "\n",
              "  <svg xmlns=\"http://www.w3.org/2000/svg\" height=\"24px\" viewBox=\"0 -960 960 960\">\n",
              "    <path d=\"M120-120v-720h720v720H120Zm60-500h600v-160H180v160Zm220 220h160v-160H400v160Zm0 220h160v-160H400v160ZM180-400h160v-160H180v160Zm440 0h160v-160H620v160ZM180-180h160v-160H180v160Zm440 0h160v-160H620v160Z\"/>\n",
              "  </svg>\n",
              "    </button>\n",
              "\n",
              "  <style>\n",
              "    .colab-df-container {\n",
              "      display:flex;\n",
              "      gap: 12px;\n",
              "    }\n",
              "\n",
              "    .colab-df-convert {\n",
              "      background-color: #E8F0FE;\n",
              "      border: none;\n",
              "      border-radius: 50%;\n",
              "      cursor: pointer;\n",
              "      display: none;\n",
              "      fill: #1967D2;\n",
              "      height: 32px;\n",
              "      padding: 0 0 0 0;\n",
              "      width: 32px;\n",
              "    }\n",
              "\n",
              "    .colab-df-convert:hover {\n",
              "      background-color: #E2EBFA;\n",
              "      box-shadow: 0px 1px 2px rgba(60, 64, 67, 0.3), 0px 1px 3px 1px rgba(60, 64, 67, 0.15);\n",
              "      fill: #174EA6;\n",
              "    }\n",
              "\n",
              "    .colab-df-buttons div {\n",
              "      margin-bottom: 4px;\n",
              "    }\n",
              "\n",
              "    [theme=dark] .colab-df-convert {\n",
              "      background-color: #3B4455;\n",
              "      fill: #D2E3FC;\n",
              "    }\n",
              "\n",
              "    [theme=dark] .colab-df-convert:hover {\n",
              "      background-color: #434B5C;\n",
              "      box-shadow: 0px 1px 3px 1px rgba(0, 0, 0, 0.15);\n",
              "      filter: drop-shadow(0px 1px 2px rgba(0, 0, 0, 0.3));\n",
              "      fill: #FFFFFF;\n",
              "    }\n",
              "  </style>\n",
              "\n",
              "    <script>\n",
              "      const buttonEl =\n",
              "        document.querySelector('#df-1a43b36f-c196-433c-9f12-67d8177c784a button.colab-df-convert');\n",
              "      buttonEl.style.display =\n",
              "        google.colab.kernel.accessAllowed ? 'block' : 'none';\n",
              "\n",
              "      async function convertToInteractive(key) {\n",
              "        const element = document.querySelector('#df-1a43b36f-c196-433c-9f12-67d8177c784a');\n",
              "        const dataTable =\n",
              "          await google.colab.kernel.invokeFunction('convertToInteractive',\n",
              "                                                    [key], {});\n",
              "        if (!dataTable) return;\n",
              "\n",
              "        const docLinkHtml = 'Like what you see? Visit the ' +\n",
              "          '<a target=\"_blank\" href=https://colab.research.google.com/notebooks/data_table.ipynb>data table notebook</a>'\n",
              "          + ' to learn more about interactive tables.';\n",
              "        element.innerHTML = '';\n",
              "        dataTable['output_type'] = 'display_data';\n",
              "        await google.colab.output.renderOutput(dataTable, element);\n",
              "        const docLink = document.createElement('div');\n",
              "        docLink.innerHTML = docLinkHtml;\n",
              "        element.appendChild(docLink);\n",
              "      }\n",
              "    </script>\n",
              "  </div>\n",
              "\n",
              "\n",
              "<div id=\"df-959c0380-9c73-4131-b010-a9585d537b94\">\n",
              "  <button class=\"colab-df-quickchart\" onclick=\"quickchart('df-959c0380-9c73-4131-b010-a9585d537b94')\"\n",
              "            title=\"Suggest charts\"\n",
              "            style=\"display:none;\">\n",
              "\n",
              "<svg xmlns=\"http://www.w3.org/2000/svg\" height=\"24px\"viewBox=\"0 0 24 24\"\n",
              "     width=\"24px\">\n",
              "    <g>\n",
              "        <path d=\"M19 3H5c-1.1 0-2 .9-2 2v14c0 1.1.9 2 2 2h14c1.1 0 2-.9 2-2V5c0-1.1-.9-2-2-2zM9 17H7v-7h2v7zm4 0h-2V7h2v10zm4 0h-2v-4h2v4z\"/>\n",
              "    </g>\n",
              "</svg>\n",
              "  </button>\n",
              "\n",
              "<style>\n",
              "  .colab-df-quickchart {\n",
              "      --bg-color: #E8F0FE;\n",
              "      --fill-color: #1967D2;\n",
              "      --hover-bg-color: #E2EBFA;\n",
              "      --hover-fill-color: #174EA6;\n",
              "      --disabled-fill-color: #AAA;\n",
              "      --disabled-bg-color: #DDD;\n",
              "  }\n",
              "\n",
              "  [theme=dark] .colab-df-quickchart {\n",
              "      --bg-color: #3B4455;\n",
              "      --fill-color: #D2E3FC;\n",
              "      --hover-bg-color: #434B5C;\n",
              "      --hover-fill-color: #FFFFFF;\n",
              "      --disabled-bg-color: #3B4455;\n",
              "      --disabled-fill-color: #666;\n",
              "  }\n",
              "\n",
              "  .colab-df-quickchart {\n",
              "    background-color: var(--bg-color);\n",
              "    border: none;\n",
              "    border-radius: 50%;\n",
              "    cursor: pointer;\n",
              "    display: none;\n",
              "    fill: var(--fill-color);\n",
              "    height: 32px;\n",
              "    padding: 0;\n",
              "    width: 32px;\n",
              "  }\n",
              "\n",
              "  .colab-df-quickchart:hover {\n",
              "    background-color: var(--hover-bg-color);\n",
              "    box-shadow: 0 1px 2px rgba(60, 64, 67, 0.3), 0 1px 3px 1px rgba(60, 64, 67, 0.15);\n",
              "    fill: var(--button-hover-fill-color);\n",
              "  }\n",
              "\n",
              "  .colab-df-quickchart-complete:disabled,\n",
              "  .colab-df-quickchart-complete:disabled:hover {\n",
              "    background-color: var(--disabled-bg-color);\n",
              "    fill: var(--disabled-fill-color);\n",
              "    box-shadow: none;\n",
              "  }\n",
              "\n",
              "  .colab-df-spinner {\n",
              "    border: 2px solid var(--fill-color);\n",
              "    border-color: transparent;\n",
              "    border-bottom-color: var(--fill-color);\n",
              "    animation:\n",
              "      spin 1s steps(1) infinite;\n",
              "  }\n",
              "\n",
              "  @keyframes spin {\n",
              "    0% {\n",
              "      border-color: transparent;\n",
              "      border-bottom-color: var(--fill-color);\n",
              "      border-left-color: var(--fill-color);\n",
              "    }\n",
              "    20% {\n",
              "      border-color: transparent;\n",
              "      border-left-color: var(--fill-color);\n",
              "      border-top-color: var(--fill-color);\n",
              "    }\n",
              "    30% {\n",
              "      border-color: transparent;\n",
              "      border-left-color: var(--fill-color);\n",
              "      border-top-color: var(--fill-color);\n",
              "      border-right-color: var(--fill-color);\n",
              "    }\n",
              "    40% {\n",
              "      border-color: transparent;\n",
              "      border-right-color: var(--fill-color);\n",
              "      border-top-color: var(--fill-color);\n",
              "    }\n",
              "    60% {\n",
              "      border-color: transparent;\n",
              "      border-right-color: var(--fill-color);\n",
              "    }\n",
              "    80% {\n",
              "      border-color: transparent;\n",
              "      border-right-color: var(--fill-color);\n",
              "      border-bottom-color: var(--fill-color);\n",
              "    }\n",
              "    90% {\n",
              "      border-color: transparent;\n",
              "      border-bottom-color: var(--fill-color);\n",
              "    }\n",
              "  }\n",
              "</style>\n",
              "\n",
              "  <script>\n",
              "    async function quickchart(key) {\n",
              "      const quickchartButtonEl =\n",
              "        document.querySelector('#' + key + ' button');\n",
              "      quickchartButtonEl.disabled = true;  // To prevent multiple clicks.\n",
              "      quickchartButtonEl.classList.add('colab-df-spinner');\n",
              "      try {\n",
              "        const charts = await google.colab.kernel.invokeFunction(\n",
              "            'suggestCharts', [key], {});\n",
              "      } catch (error) {\n",
              "        console.error('Error during call to suggestCharts:', error);\n",
              "      }\n",
              "      quickchartButtonEl.classList.remove('colab-df-spinner');\n",
              "      quickchartButtonEl.classList.add('colab-df-quickchart-complete');\n",
              "    }\n",
              "    (() => {\n",
              "      let quickchartButtonEl =\n",
              "        document.querySelector('#df-959c0380-9c73-4131-b010-a9585d537b94 button');\n",
              "      quickchartButtonEl.style.display =\n",
              "        google.colab.kernel.accessAllowed ? 'block' : 'none';\n",
              "    })();\n",
              "  </script>\n",
              "</div>\n",
              "\n",
              "    </div>\n",
              "  </div>\n"
            ],
            "text/plain": [
              "   day  month  year  Temperature  RH  Ws  Rain  FFMC  DMC    DC  ISI  BUI  \\\n",
              "0    1      6  2012           29  57  18   0.0  65.7  3.4   7.6  1.3  3.4   \n",
              "1    2      6  2012           29  61  13   1.3  64.4  4.1   7.6  1.0  3.9   \n",
              "2    3      6  2012           26  82  22  13.1  47.1  2.5   7.1  0.3  2.7   \n",
              "3    4      6  2012           25  89  13   2.5  28.6  1.3   6.9  0.0  1.7   \n",
              "4    5      6  2012           27  77  16   0.0  64.8  3.0  14.2  1.2  3.9   \n",
              "\n",
              "   FWI      Classes  Region  \n",
              "0  0.5  not fire          0  \n",
              "1  0.4  not fire          0  \n",
              "2  0.1  not fire          0  \n",
              "3  0.0  not fire          0  \n",
              "4  0.5  not fire          0  "
            ]
          },
          "execution_count": 6,
          "metadata": {},
          "output_type": "execute_result"
        }
      ],
      "source": [
        "df.head()\n"
      ]
    },
    {
      "cell_type": "code",
      "execution_count": null,
      "metadata": {
        "colab": {
          "base_uri": "https://localhost:8080/"
        },
        "id": "D09-QwiBKPTu",
        "outputId": "86346310-b61b-4da2-ad30-3e629e448f9b"
      },
      "outputs": [
        {
          "data": {
            "text/plain": [
              "day            0\n",
              "month          0\n",
              "year           0\n",
              "Temperature    0\n",
              "RH             0\n",
              "Ws             0\n",
              "Rain           0\n",
              "FFMC           0\n",
              "DMC            0\n",
              "DC             0\n",
              "ISI            0\n",
              "BUI            0\n",
              "FWI            0\n",
              "Classes        0\n",
              "Region         0\n",
              "dtype: int64"
            ]
          },
          "execution_count": 7,
          "metadata": {},
          "output_type": "execute_result"
        }
      ],
      "source": [
        "\n",
        "# Step 4: Checking for the null values\n",
        "df.isnull().sum()"
      ]
    },
    {
      "cell_type": "code",
      "execution_count": null,
      "metadata": {
        "colab": {
          "base_uri": "https://localhost:8080/"
        },
        "id": "wp3Zqq7wKZN2",
        "outputId": "49dc897e-b5c9-4753-9185-a758d45ec920"
      },
      "outputs": [
        {
          "data": {
            "text/plain": [
              "0"
            ]
          },
          "execution_count": 8,
          "metadata": {},
          "output_type": "execute_result"
        }
      ],
      "source": [
        "#Step 5: Checking for duplicate values \n",
        "df.duplicated().sum()"
      ]
    },
    {
      "cell_type": "code",
      "execution_count": null,
      "metadata": {
        "colab": {
          "base_uri": "https://localhost:8080/",
          "height": 320
        },
        "id": "C9bZfqhOKci0",
        "outputId": "a421b6bd-d0a5-4791-c796-7769db0c9ace"
      },
      "outputs": [
        {
          "data": {
            "text/html": [
              "\n",
              "  <div id=\"df-b2da1415-a39b-41aa-92cb-5d9af0300408\" class=\"colab-df-container\">\n",
              "    <div>\n",
              "<style scoped>\n",
              "    .dataframe tbody tr th:only-of-type {\n",
              "        vertical-align: middle;\n",
              "    }\n",
              "\n",
              "    .dataframe tbody tr th {\n",
              "        vertical-align: top;\n",
              "    }\n",
              "\n",
              "    .dataframe thead th {\n",
              "        text-align: right;\n",
              "    }\n",
              "</style>\n",
              "<table border=\"1\" class=\"dataframe\">\n",
              "  <thead>\n",
              "    <tr style=\"text-align: right;\">\n",
              "      <th></th>\n",
              "      <th>day</th>\n",
              "      <th>month</th>\n",
              "      <th>year</th>\n",
              "      <th>Temperature</th>\n",
              "      <th>RH</th>\n",
              "      <th>Ws</th>\n",
              "      <th>Rain</th>\n",
              "      <th>FFMC</th>\n",
              "      <th>DMC</th>\n",
              "      <th>DC</th>\n",
              "      <th>ISI</th>\n",
              "      <th>BUI</th>\n",
              "      <th>FWI</th>\n",
              "      <th>Region</th>\n",
              "    </tr>\n",
              "  </thead>\n",
              "  <tbody>\n",
              "    <tr>\n",
              "      <th>count</th>\n",
              "      <td>243.000000</td>\n",
              "      <td>243.000000</td>\n",
              "      <td>243.0</td>\n",
              "      <td>243.000000</td>\n",
              "      <td>243.000000</td>\n",
              "      <td>243.000000</td>\n",
              "      <td>243.000000</td>\n",
              "      <td>243.000000</td>\n",
              "      <td>243.000000</td>\n",
              "      <td>243.000000</td>\n",
              "      <td>243.000000</td>\n",
              "      <td>243.000000</td>\n",
              "      <td>243.000000</td>\n",
              "      <td>243.000000</td>\n",
              "    </tr>\n",
              "    <tr>\n",
              "      <th>mean</th>\n",
              "      <td>15.761317</td>\n",
              "      <td>7.502058</td>\n",
              "      <td>2012.0</td>\n",
              "      <td>32.152263</td>\n",
              "      <td>62.041152</td>\n",
              "      <td>15.493827</td>\n",
              "      <td>0.762963</td>\n",
              "      <td>77.842387</td>\n",
              "      <td>14.680658</td>\n",
              "      <td>49.430864</td>\n",
              "      <td>4.742387</td>\n",
              "      <td>16.690535</td>\n",
              "      <td>7.035391</td>\n",
              "      <td>0.497942</td>\n",
              "    </tr>\n",
              "    <tr>\n",
              "      <th>std</th>\n",
              "      <td>8.842552</td>\n",
              "      <td>1.114793</td>\n",
              "      <td>0.0</td>\n",
              "      <td>3.628039</td>\n",
              "      <td>14.828160</td>\n",
              "      <td>2.811385</td>\n",
              "      <td>2.003207</td>\n",
              "      <td>14.349641</td>\n",
              "      <td>12.393040</td>\n",
              "      <td>47.665606</td>\n",
              "      <td>4.154234</td>\n",
              "      <td>14.228421</td>\n",
              "      <td>7.440568</td>\n",
              "      <td>0.501028</td>\n",
              "    </tr>\n",
              "    <tr>\n",
              "      <th>min</th>\n",
              "      <td>1.000000</td>\n",
              "      <td>6.000000</td>\n",
              "      <td>2012.0</td>\n",
              "      <td>22.000000</td>\n",
              "      <td>21.000000</td>\n",
              "      <td>6.000000</td>\n",
              "      <td>0.000000</td>\n",
              "      <td>28.600000</td>\n",
              "      <td>0.700000</td>\n",
              "      <td>6.900000</td>\n",
              "      <td>0.000000</td>\n",
              "      <td>1.100000</td>\n",
              "      <td>0.000000</td>\n",
              "      <td>0.000000</td>\n",
              "    </tr>\n",
              "    <tr>\n",
              "      <th>25%</th>\n",
              "      <td>8.000000</td>\n",
              "      <td>7.000000</td>\n",
              "      <td>2012.0</td>\n",
              "      <td>30.000000</td>\n",
              "      <td>52.500000</td>\n",
              "      <td>14.000000</td>\n",
              "      <td>0.000000</td>\n",
              "      <td>71.850000</td>\n",
              "      <td>5.800000</td>\n",
              "      <td>12.350000</td>\n",
              "      <td>1.400000</td>\n",
              "      <td>6.000000</td>\n",
              "      <td>0.700000</td>\n",
              "      <td>0.000000</td>\n",
              "    </tr>\n",
              "    <tr>\n",
              "      <th>50%</th>\n",
              "      <td>16.000000</td>\n",
              "      <td>8.000000</td>\n",
              "      <td>2012.0</td>\n",
              "      <td>32.000000</td>\n",
              "      <td>63.000000</td>\n",
              "      <td>15.000000</td>\n",
              "      <td>0.000000</td>\n",
              "      <td>83.300000</td>\n",
              "      <td>11.300000</td>\n",
              "      <td>33.100000</td>\n",
              "      <td>3.500000</td>\n",
              "      <td>12.400000</td>\n",
              "      <td>4.200000</td>\n",
              "      <td>0.000000</td>\n",
              "    </tr>\n",
              "    <tr>\n",
              "      <th>75%</th>\n",
              "      <td>23.000000</td>\n",
              "      <td>8.000000</td>\n",
              "      <td>2012.0</td>\n",
              "      <td>35.000000</td>\n",
              "      <td>73.500000</td>\n",
              "      <td>17.000000</td>\n",
              "      <td>0.500000</td>\n",
              "      <td>88.300000</td>\n",
              "      <td>20.800000</td>\n",
              "      <td>69.100000</td>\n",
              "      <td>7.250000</td>\n",
              "      <td>22.650000</td>\n",
              "      <td>11.450000</td>\n",
              "      <td>1.000000</td>\n",
              "    </tr>\n",
              "    <tr>\n",
              "      <th>max</th>\n",
              "      <td>31.000000</td>\n",
              "      <td>9.000000</td>\n",
              "      <td>2012.0</td>\n",
              "      <td>42.000000</td>\n",
              "      <td>90.000000</td>\n",
              "      <td>29.000000</td>\n",
              "      <td>16.800000</td>\n",
              "      <td>96.000000</td>\n",
              "      <td>65.900000</td>\n",
              "      <td>220.400000</td>\n",
              "      <td>19.000000</td>\n",
              "      <td>68.000000</td>\n",
              "      <td>31.100000</td>\n",
              "      <td>1.000000</td>\n",
              "    </tr>\n",
              "  </tbody>\n",
              "</table>\n",
              "</div>\n",
              "    <div class=\"colab-df-buttons\">\n",
              "\n",
              "  <div class=\"colab-df-container\">\n",
              "    <button class=\"colab-df-convert\" onclick=\"convertToInteractive('df-b2da1415-a39b-41aa-92cb-5d9af0300408')\"\n",
              "            title=\"Convert this dataframe to an interactive table.\"\n",
              "            style=\"display:none;\">\n",
              "\n",
              "  <svg xmlns=\"http://www.w3.org/2000/svg\" height=\"24px\" viewBox=\"0 -960 960 960\">\n",
              "    <path d=\"M120-120v-720h720v720H120Zm60-500h600v-160H180v160Zm220 220h160v-160H400v160Zm0 220h160v-160H400v160ZM180-400h160v-160H180v160Zm440 0h160v-160H620v160ZM180-180h160v-160H180v160Zm440 0h160v-160H620v160Z\"/>\n",
              "  </svg>\n",
              "    </button>\n",
              "\n",
              "  <style>\n",
              "    .colab-df-container {\n",
              "      display:flex;\n",
              "      gap: 12px;\n",
              "    }\n",
              "\n",
              "    .colab-df-convert {\n",
              "      background-color: #E8F0FE;\n",
              "      border: none;\n",
              "      border-radius: 50%;\n",
              "      cursor: pointer;\n",
              "      display: none;\n",
              "      fill: #1967D2;\n",
              "      height: 32px;\n",
              "      padding: 0 0 0 0;\n",
              "      width: 32px;\n",
              "    }\n",
              "\n",
              "    .colab-df-convert:hover {\n",
              "      background-color: #E2EBFA;\n",
              "      box-shadow: 0px 1px 2px rgba(60, 64, 67, 0.3), 0px 1px 3px 1px rgba(60, 64, 67, 0.15);\n",
              "      fill: #174EA6;\n",
              "    }\n",
              "\n",
              "    .colab-df-buttons div {\n",
              "      margin-bottom: 4px;\n",
              "    }\n",
              "\n",
              "    [theme=dark] .colab-df-convert {\n",
              "      background-color: #3B4455;\n",
              "      fill: #D2E3FC;\n",
              "    }\n",
              "\n",
              "    [theme=dark] .colab-df-convert:hover {\n",
              "      background-color: #434B5C;\n",
              "      box-shadow: 0px 1px 3px 1px rgba(0, 0, 0, 0.15);\n",
              "      filter: drop-shadow(0px 1px 2px rgba(0, 0, 0, 0.3));\n",
              "      fill: #FFFFFF;\n",
              "    }\n",
              "  </style>\n",
              "\n",
              "    <script>\n",
              "      const buttonEl =\n",
              "        document.querySelector('#df-b2da1415-a39b-41aa-92cb-5d9af0300408 button.colab-df-convert');\n",
              "      buttonEl.style.display =\n",
              "        google.colab.kernel.accessAllowed ? 'block' : 'none';\n",
              "\n",
              "      async function convertToInteractive(key) {\n",
              "        const element = document.querySelector('#df-b2da1415-a39b-41aa-92cb-5d9af0300408');\n",
              "        const dataTable =\n",
              "          await google.colab.kernel.invokeFunction('convertToInteractive',\n",
              "                                                    [key], {});\n",
              "        if (!dataTable) return;\n",
              "\n",
              "        const docLinkHtml = 'Like what you see? Visit the ' +\n",
              "          '<a target=\"_blank\" href=https://colab.research.google.com/notebooks/data_table.ipynb>data table notebook</a>'\n",
              "          + ' to learn more about interactive tables.';\n",
              "        element.innerHTML = '';\n",
              "        dataTable['output_type'] = 'display_data';\n",
              "        await google.colab.output.renderOutput(dataTable, element);\n",
              "        const docLink = document.createElement('div');\n",
              "        docLink.innerHTML = docLinkHtml;\n",
              "        element.appendChild(docLink);\n",
              "      }\n",
              "    </script>\n",
              "  </div>\n",
              "\n",
              "\n",
              "<div id=\"df-fcd9cefd-5322-4a89-bdc4-ee8dde348142\">\n",
              "  <button class=\"colab-df-quickchart\" onclick=\"quickchart('df-fcd9cefd-5322-4a89-bdc4-ee8dde348142')\"\n",
              "            title=\"Suggest charts\"\n",
              "            style=\"display:none;\">\n",
              "\n",
              "<svg xmlns=\"http://www.w3.org/2000/svg\" height=\"24px\"viewBox=\"0 0 24 24\"\n",
              "     width=\"24px\">\n",
              "    <g>\n",
              "        <path d=\"M19 3H5c-1.1 0-2 .9-2 2v14c0 1.1.9 2 2 2h14c1.1 0 2-.9 2-2V5c0-1.1-.9-2-2-2zM9 17H7v-7h2v7zm4 0h-2V7h2v10zm4 0h-2v-4h2v4z\"/>\n",
              "    </g>\n",
              "</svg>\n",
              "  </button>\n",
              "\n",
              "<style>\n",
              "  .colab-df-quickchart {\n",
              "      --bg-color: #E8F0FE;\n",
              "      --fill-color: #1967D2;\n",
              "      --hover-bg-color: #E2EBFA;\n",
              "      --hover-fill-color: #174EA6;\n",
              "      --disabled-fill-color: #AAA;\n",
              "      --disabled-bg-color: #DDD;\n",
              "  }\n",
              "\n",
              "  [theme=dark] .colab-df-quickchart {\n",
              "      --bg-color: #3B4455;\n",
              "      --fill-color: #D2E3FC;\n",
              "      --hover-bg-color: #434B5C;\n",
              "      --hover-fill-color: #FFFFFF;\n",
              "      --disabled-bg-color: #3B4455;\n",
              "      --disabled-fill-color: #666;\n",
              "  }\n",
              "\n",
              "  .colab-df-quickchart {\n",
              "    background-color: var(--bg-color);\n",
              "    border: none;\n",
              "    border-radius: 50%;\n",
              "    cursor: pointer;\n",
              "    display: none;\n",
              "    fill: var(--fill-color);\n",
              "    height: 32px;\n",
              "    padding: 0;\n",
              "    width: 32px;\n",
              "  }\n",
              "\n",
              "  .colab-df-quickchart:hover {\n",
              "    background-color: var(--hover-bg-color);\n",
              "    box-shadow: 0 1px 2px rgba(60, 64, 67, 0.3), 0 1px 3px 1px rgba(60, 64, 67, 0.15);\n",
              "    fill: var(--button-hover-fill-color);\n",
              "  }\n",
              "\n",
              "  .colab-df-quickchart-complete:disabled,\n",
              "  .colab-df-quickchart-complete:disabled:hover {\n",
              "    background-color: var(--disabled-bg-color);\n",
              "    fill: var(--disabled-fill-color);\n",
              "    box-shadow: none;\n",
              "  }\n",
              "\n",
              "  .colab-df-spinner {\n",
              "    border: 2px solid var(--fill-color);\n",
              "    border-color: transparent;\n",
              "    border-bottom-color: var(--fill-color);\n",
              "    animation:\n",
              "      spin 1s steps(1) infinite;\n",
              "  }\n",
              "\n",
              "  @keyframes spin {\n",
              "    0% {\n",
              "      border-color: transparent;\n",
              "      border-bottom-color: var(--fill-color);\n",
              "      border-left-color: var(--fill-color);\n",
              "    }\n",
              "    20% {\n",
              "      border-color: transparent;\n",
              "      border-left-color: var(--fill-color);\n",
              "      border-top-color: var(--fill-color);\n",
              "    }\n",
              "    30% {\n",
              "      border-color: transparent;\n",
              "      border-left-color: var(--fill-color);\n",
              "      border-top-color: var(--fill-color);\n",
              "      border-right-color: var(--fill-color);\n",
              "    }\n",
              "    40% {\n",
              "      border-color: transparent;\n",
              "      border-right-color: var(--fill-color);\n",
              "      border-top-color: var(--fill-color);\n",
              "    }\n",
              "    60% {\n",
              "      border-color: transparent;\n",
              "      border-right-color: var(--fill-color);\n",
              "    }\n",
              "    80% {\n",
              "      border-color: transparent;\n",
              "      border-right-color: var(--fill-color);\n",
              "      border-bottom-color: var(--fill-color);\n",
              "    }\n",
              "    90% {\n",
              "      border-color: transparent;\n",
              "      border-bottom-color: var(--fill-color);\n",
              "    }\n",
              "  }\n",
              "</style>\n",
              "\n",
              "  <script>\n",
              "    async function quickchart(key) {\n",
              "      const quickchartButtonEl =\n",
              "        document.querySelector('#' + key + ' button');\n",
              "      quickchartButtonEl.disabled = true;  // To prevent multiple clicks.\n",
              "      quickchartButtonEl.classList.add('colab-df-spinner');\n",
              "      try {\n",
              "        const charts = await google.colab.kernel.invokeFunction(\n",
              "            'suggestCharts', [key], {});\n",
              "      } catch (error) {\n",
              "        console.error('Error during call to suggestCharts:', error);\n",
              "      }\n",
              "      quickchartButtonEl.classList.remove('colab-df-spinner');\n",
              "      quickchartButtonEl.classList.add('colab-df-quickchart-complete');\n",
              "    }\n",
              "    (() => {\n",
              "      let quickchartButtonEl =\n",
              "        document.querySelector('#df-fcd9cefd-5322-4a89-bdc4-ee8dde348142 button');\n",
              "      quickchartButtonEl.style.display =\n",
              "        google.colab.kernel.accessAllowed ? 'block' : 'none';\n",
              "    })();\n",
              "  </script>\n",
              "</div>\n",
              "\n",
              "    </div>\n",
              "  </div>\n"
            ],
            "text/plain": [
              "              day       month    year  Temperature          RH          Ws  \\\n",
              "count  243.000000  243.000000   243.0   243.000000  243.000000  243.000000   \n",
              "mean    15.761317    7.502058  2012.0    32.152263   62.041152   15.493827   \n",
              "std      8.842552    1.114793     0.0     3.628039   14.828160    2.811385   \n",
              "min      1.000000    6.000000  2012.0    22.000000   21.000000    6.000000   \n",
              "25%      8.000000    7.000000  2012.0    30.000000   52.500000   14.000000   \n",
              "50%     16.000000    8.000000  2012.0    32.000000   63.000000   15.000000   \n",
              "75%     23.000000    8.000000  2012.0    35.000000   73.500000   17.000000   \n",
              "max     31.000000    9.000000  2012.0    42.000000   90.000000   29.000000   \n",
              "\n",
              "             Rain        FFMC         DMC          DC         ISI         BUI  \\\n",
              "count  243.000000  243.000000  243.000000  243.000000  243.000000  243.000000   \n",
              "mean     0.762963   77.842387   14.680658   49.430864    4.742387   16.690535   \n",
              "std      2.003207   14.349641   12.393040   47.665606    4.154234   14.228421   \n",
              "min      0.000000   28.600000    0.700000    6.900000    0.000000    1.100000   \n",
              "25%      0.000000   71.850000    5.800000   12.350000    1.400000    6.000000   \n",
              "50%      0.000000   83.300000   11.300000   33.100000    3.500000   12.400000   \n",
              "75%      0.500000   88.300000   20.800000   69.100000    7.250000   22.650000   \n",
              "max     16.800000   96.000000   65.900000  220.400000   19.000000   68.000000   \n",
              "\n",
              "              FWI      Region  \n",
              "count  243.000000  243.000000  \n",
              "mean     7.035391    0.497942  \n",
              "std      7.440568    0.501028  \n",
              "min      0.000000    0.000000  \n",
              "25%      0.700000    0.000000  \n",
              "50%      4.200000    0.000000  \n",
              "75%     11.450000    1.000000  \n",
              "max     31.100000    1.000000  "
            ]
          },
          "execution_count": 9,
          "metadata": {},
          "output_type": "execute_result"
        }
      ],
      "source": [
        "#Step 6: Descriptive analysis\n",
        "df.describe()"
      ]
    },
    {
      "cell_type": "code",
      "execution_count": null,
      "metadata": {
        "id": "ULzjK7qbKf4_"
      },
      "outputs": [],
      "source": [
        "#Step 7:  Encoding categorical values\n",
        "mapping = {'fire   ': 1, 'not fire   ': 0}\n",
        "\n",
        "# Step 8: Apply the mapping to the 'Classes' column\n",
        "df['Classes_encoded'] = df['Classes'].map(mapping)"
      ]
    },
    {
      "cell_type": "code",
      "execution_count": null,
      "metadata": {
        "colab": {
          "base_uri": "https://localhost:8080/"
        },
        "id": "h1kI4H29Kq2i",
        "outputId": "16a4d034-51c7-48f9-f394-58ce0c6a1d75"
      },
      "outputs": [
        {
          "name": "stdout",
          "output_type": "stream",
          "text": [
            "     day  month  year  Temperature  RH  Ws  Rain  FFMC   DMC    DC  ISI   BUI  \\\n",
            "0      1      6  2012           29  57  18   0.0  65.7   3.4   7.6  1.3   3.4   \n",
            "1      2      6  2012           29  61  13   1.3  64.4   4.1   7.6  1.0   3.9   \n",
            "2      3      6  2012           26  82  22  13.1  47.1   2.5   7.1  0.3   2.7   \n",
            "3      4      6  2012           25  89  13   2.5  28.6   1.3   6.9  0.0   1.7   \n",
            "4      5      6  2012           27  77  16   0.0  64.8   3.0  14.2  1.2   3.9   \n",
            "..   ...    ...   ...          ...  ..  ..   ...   ...   ...   ...  ...   ...   \n",
            "238   26      9  2012           30  65  14   0.0  85.4  16.0  44.5  4.5  16.9   \n",
            "239   27      9  2012           28  87  15   4.4  41.1   6.5   8.0  0.1   6.2   \n",
            "240   28      9  2012           27  87  29   0.5  45.9   3.5   7.9  0.4   3.4   \n",
            "241   29      9  2012           24  54  18   0.1  79.7   4.3  15.2  1.7   5.1   \n",
            "242   30      9  2012           24  64  15   0.2  67.3   3.8  16.5  1.2   4.8   \n",
            "\n",
            "     FWI       Classes  Region  Classes_encoded  \n",
            "0    0.5   not fire          0              0.0  \n",
            "1    0.4   not fire          0              0.0  \n",
            "2    0.1   not fire          0              0.0  \n",
            "3    0.0   not fire          0              0.0  \n",
            "4    0.5   not fire          0              0.0  \n",
            "..   ...           ...     ...              ...  \n",
            "238  6.5       fire          1              1.0  \n",
            "239  0.0   not fire          1              0.0  \n",
            "240  0.2   not fire          1              0.0  \n",
            "241  0.7   not fire          1              0.0  \n",
            "242  0.5  not fire           1              NaN  \n",
            "\n",
            "[243 rows x 16 columns]\n"
          ]
        }
      ],
      "source": [
        "print(df)"
      ]
    },
    {
      "cell_type": "code",
      "execution_count": null,
      "metadata": {
        "id": "3IKljhNwKwq7"
      },
      "outputs": [],
      "source": [
        "# Step 9: Drop all NaN values from the 'Classes_encoded' column\n",
        "df.dropna(subset=['Classes_encoded'], inplace=True)"
      ]
    },
    {
      "cell_type": "code",
      "execution_count": null,
      "metadata": {
        "colab": {
          "base_uri": "https://localhost:8080/"
        },
        "id": "wBIGORjXKzhV",
        "outputId": "63853d91-77bc-41cf-d7df-c5e0a0449a1d"
      },
      "outputs": [
        {
          "name": "stdout",
          "output_type": "stream",
          "text": [
            "     day  month  year  Temperature  RH  Ws  Rain  FFMC   DMC    DC  ISI   BUI  \\\n",
            "0      1      6  2012           29  57  18   0.0  65.7   3.4   7.6  1.3   3.4   \n",
            "1      2      6  2012           29  61  13   1.3  64.4   4.1   7.6  1.0   3.9   \n",
            "2      3      6  2012           26  82  22  13.1  47.1   2.5   7.1  0.3   2.7   \n",
            "3      4      6  2012           25  89  13   2.5  28.6   1.3   6.9  0.0   1.7   \n",
            "4      5      6  2012           27  77  16   0.0  64.8   3.0  14.2  1.2   3.9   \n",
            "..   ...    ...   ...          ...  ..  ..   ...   ...   ...   ...  ...   ...   \n",
            "237   25      9  2012           28  70  15   0.0  79.9  13.8  36.1  2.4  14.1   \n",
            "238   26      9  2012           30  65  14   0.0  85.4  16.0  44.5  4.5  16.9   \n",
            "239   27      9  2012           28  87  15   4.4  41.1   6.5   8.0  0.1   6.2   \n",
            "240   28      9  2012           27  87  29   0.5  45.9   3.5   7.9  0.4   3.4   \n",
            "241   29      9  2012           24  54  18   0.1  79.7   4.3  15.2  1.7   5.1   \n",
            "\n",
            "     FWI      Classes  Region  Classes_encoded  \n",
            "0    0.5  not fire          0              0.0  \n",
            "1    0.4  not fire          0              0.0  \n",
            "2    0.1  not fire          0              0.0  \n",
            "3    0.0  not fire          0              0.0  \n",
            "4    0.5  not fire          0              0.0  \n",
            "..   ...          ...     ...              ...  \n",
            "237  3.0  not fire          1              0.0  \n",
            "238  6.5      fire          1              1.0  \n",
            "239  0.0  not fire          1              0.0  \n",
            "240  0.2  not fire          1              0.0  \n",
            "241  0.7  not fire          1              0.0  \n",
            "\n",
            "[232 rows x 16 columns]\n"
          ]
        }
      ],
      "source": [
        "print(df)"
      ]
    },
    {
      "cell_type": "code",
      "execution_count": null,
      "metadata": {
        "id": "dPzYnN2WK4Ve"
      },
      "outputs": [],
      "source": [
        "#Step 10:  Dropping the time metrics and string column\n",
        "df_copy = df.drop(['day', 'month', 'year', 'Classes'], axis=1)"
      ]
    },
    {
      "cell_type": "code",
      "execution_count": null,
      "metadata": {
        "colab": {
          "base_uri": "https://localhost:8080/"
        },
        "id": "fxrl7ZbkK6q6",
        "outputId": "53e33245-c242-4cf6-f2f3-e4150258f924"
      },
      "outputs": [
        {
          "name": "stdout",
          "output_type": "stream",
          "text": [
            "     Temperature  RH  Ws  Rain  FFMC   DMC    DC  ISI   BUI  FWI  Region  \\\n",
            "0             29  57  18   0.0  65.7   3.4   7.6  1.3   3.4  0.5       0   \n",
            "1             29  61  13   1.3  64.4   4.1   7.6  1.0   3.9  0.4       0   \n",
            "2             26  82  22  13.1  47.1   2.5   7.1  0.3   2.7  0.1       0   \n",
            "3             25  89  13   2.5  28.6   1.3   6.9  0.0   1.7  0.0       0   \n",
            "4             27  77  16   0.0  64.8   3.0  14.2  1.2   3.9  0.5       0   \n",
            "..           ...  ..  ..   ...   ...   ...   ...  ...   ...  ...     ...   \n",
            "237           28  70  15   0.0  79.9  13.8  36.1  2.4  14.1  3.0       1   \n",
            "238           30  65  14   0.0  85.4  16.0  44.5  4.5  16.9  6.5       1   \n",
            "239           28  87  15   4.4  41.1   6.5   8.0  0.1   6.2  0.0       1   \n",
            "240           27  87  29   0.5  45.9   3.5   7.9  0.4   3.4  0.2       1   \n",
            "241           24  54  18   0.1  79.7   4.3  15.2  1.7   5.1  0.7       1   \n",
            "\n",
            "     Classes_encoded  \n",
            "0                0.0  \n",
            "1                0.0  \n",
            "2                0.0  \n",
            "3                0.0  \n",
            "4                0.0  \n",
            "..               ...  \n",
            "237              0.0  \n",
            "238              1.0  \n",
            "239              0.0  \n",
            "240              0.0  \n",
            "241              0.0  \n",
            "\n",
            "[232 rows x 12 columns]\n"
          ]
        }
      ],
      "source": [
        "print(df_copy)"
      ]
    },
    {
      "cell_type": "code",
      "execution_count": null,
      "metadata": {
        "colab": {
          "base_uri": "https://localhost:8080/"
        },
        "id": "SbO2NeBzK-v1",
        "outputId": "8dea5dd2-a6ed-44c4-875b-e301ec911894"
      },
      "outputs": [
        {
          "data": {
            "text/plain": [
              "Temperature        0\n",
              "RH                 0\n",
              "Ws                 0\n",
              "Rain               0\n",
              "FFMC               0\n",
              "DMC                0\n",
              "DC                 0\n",
              "ISI                0\n",
              "BUI                0\n",
              "FWI                0\n",
              "Region             0\n",
              "Classes_encoded    0\n",
              "dtype: int64"
            ]
          },
          "execution_count": 18,
          "metadata": {},
          "output_type": "execute_result"
        }
      ],
      "source": [
        "# Step 11: Checking for null values\n",
        "df_copy.isna().sum()"
      ]
    },
    {
      "cell_type": "code",
      "execution_count": null,
      "metadata": {
        "id": "EYROVL7tLD-6"
      },
      "outputs": [],
      "source": [
        "# Step 12: Keeping uniform datatype across all columns\n",
        "df_copy = df_copy.astype(float)"
      ]
    },
    {
      "cell_type": "code",
      "execution_count": null,
      "metadata": {
        "colab": {
          "base_uri": "https://localhost:8080/"
        },
        "id": "bw2j7OZYLHJQ",
        "outputId": "27543259-054c-43b6-8819-f90249c1d053"
      },
      "outputs": [
        {
          "name": "stdout",
          "output_type": "stream",
          "text": [
            "<class 'pandas.core.frame.DataFrame'>\n",
            "Int64Index: 232 entries, 0 to 241\n",
            "Data columns (total 12 columns):\n",
            " #   Column           Non-Null Count  Dtype  \n",
            "---  ------           --------------  -----  \n",
            " 0   Temperature      232 non-null    float64\n",
            " 1   RH               232 non-null    float64\n",
            " 2   Ws               232 non-null    float64\n",
            " 3   Rain             232 non-null    float64\n",
            " 4   FFMC             232 non-null    float64\n",
            " 5   DMC              232 non-null    float64\n",
            " 6   DC               232 non-null    float64\n",
            " 7   ISI              232 non-null    float64\n",
            " 8   BUI              232 non-null    float64\n",
            " 9   FWI              232 non-null    float64\n",
            " 10  Region           232 non-null    float64\n",
            " 11  Classes_encoded  232 non-null    float64\n",
            "dtypes: float64(12)\n",
            "memory usage: 23.6 KB\n"
          ]
        }
      ],
      "source": [
        "\n",
        "df_copy.info()"
      ]
    },
    {
      "cell_type": "code",
      "execution_count": null,
      "metadata": {
        "colab": {
          "base_uri": "https://localhost:8080/",
          "height": 447
        },
        "id": "OhyKT0J9LKAV",
        "outputId": "6fab0834-ba73-4daf-ca0b-64a56db2e3c7"
      },
      "outputs": [
        {
          "data": {
            "text/plain": [
              "<Axes: >"
            ]
          },
          "execution_count": 21,
          "metadata": {},
          "output_type": "execute_result"
        },
        {
          "data": {
            "image/png": "[encoded data removed]",
            "text/plain": [
              "<Figure size 640x480 with 1 Axes>"
            ]
          },
          "metadata": {},
          "output_type": "display_data"
        }
      ],
      "source": [
        "# Step 13: Generating boxplot for visualizeing outliers\n",
        "sns.boxplot(df_copy)"
      ]
    },
    {
      "cell_type": "code",
      "execution_count": null,
      "metadata": {
        "id": "0--iEzG0LOTD"
      },
      "outputs": [],
      "source": [
        "# Step 14: Calcualting Q1, Q3 and IQR to handle outliers\n",
        "Q1 = df_copy.quantile(0.25)\n",
        "Q3 = df_copy.quantile(0.75)\n",
        "IQR = Q3 - Q1\n",
        "\n",
        "# Define a threshold for outliers\n",
        "threshold = 1\n",
        "\n",
        "# Filter out outliers\n",
        "df_copy = df_copy[~((df_copy < (Q1 - threshold * IQR)) | (df_copy > (Q3 + threshold * IQR))).any(axis=1)]"
      ]
    },
    {
      "cell_type": "code",
      "execution_count": null,
      "metadata": {
        "colab": {
          "base_uri": "https://localhost:8080/",
          "height": 448
        },
        "id": "Qg-byUjHL0HN",
        "outputId": "ed80aa4e-a182-4f89-8230-8e32678dd797"
      },
      "outputs": [
        {
          "data": {
            "text/plain": [
              "<Axes: >"
            ]
          },
          "execution_count": 23,
          "metadata": {},
          "output_type": "execute_result"
        },
        {
          "data": {
            "image/png": "[encoded data removed]",
            "text/plain": [
              "<Figure size 640x480 with 1 Axes>"
            ]
          },
          "metadata": {},
          "output_type": "display_data"
        }
      ],
      "source": [
        "\n",
        "# STep 15: Outliers handled\n",
        "sns.boxplot(df_copy)"
      ]
    },
    {
      "cell_type": "code",
      "execution_count": null,
      "metadata": {
        "colab": {
          "base_uri": "https://localhost:8080/",
          "height": 493
        },
        "id": "enjKDA6CL4wp",
        "outputId": "aed57bb8-82a9-448f-e86d-35c1bfe6b20c"
      },
      "outputs": [
        {
          "data": {
            "text/plain": [
              "<Axes: >"
            ]
          },
          "execution_count": 24,
          "metadata": {},
          "output_type": "execute_result"
        },
        {
          "data": {
            "image/png": "[encoded data removed]",
            "text/plain": [
              "<Figure size 800x500 with 2 Axes>"
            ]
          },
          "metadata": {},
          "output_type": "display_data"
        }
      ],
      "source": [
        "plt.figure(figsize=(8,5))\n",
        "sns.heatmap(df_copy.corr(), cmap='coolwarm', annot=True)"
      ]
    },
    {
      "cell_type": "code",
      "execution_count": null,
      "metadata": {
        "id": "YDn37EIYL7ZW"
      },
      "outputs": [],
      "source": [
        "X = df_copy.drop(columns=['FWI'])\n",
        "y = df_copy['FWI']"
      ]
    },
    {
      "cell_type": "code",
      "execution_count": null,
      "metadata": {
        "id": "hh5RwnHkMZVi"
      },
      "outputs": [],
      "source": [
        "X_train, X_test, y_train, y_test = train_test_split(X, y, test_size=0.2, random_state=43)"
      ]
    },
    {
      "cell_type": "code",
      "execution_count": null,
      "metadata": {
        "id": "-j-t2bdHMbp_"
      },
      "outputs": [],
      "source": [
        "scaler = StandardScaler()"
      ]
    },
    {
      "cell_type": "code",
      "execution_count": null,
      "metadata": {
        "id": "3BxfPluqMeAO"
      },
      "outputs": [],
      "source": [
        "X_train_scaled = scaler.fit_transform(X_train)\n",
        "X_test_scaled = scaler.transform(X_test)"
      ]
    },
    {
      "cell_type": "code",
      "execution_count": null,
      "metadata": {
        "colab": {
          "base_uri": "https://localhost:8080/",
          "height": 637
        },
        "id": "joIT4HmCMsAK",
        "outputId": "508aae94-7ed5-4550-d4c8-0b36d153f6d7"
      },
      "outputs": [
        {
          "data": {
            "image/png": "[encoded data removed]",
            "text/plain": [
              "<Figure size 1000x1000 with 1 Axes>"
            ]
          },
          "metadata": {},
          "output_type": "display_data"
        }
      ],
      "source": [
        "#outliers\n",
        "plt.figure(figsize=(10,10))\n",
        "sns.boxplot(data=X_train_scaled)\n",
        "plt.show()"
      ]
    },
    {
      "cell_type": "code",
      "execution_count": null,
      "metadata": {
        "colab": {
          "base_uri": "https://localhost:8080/",
          "height": 74
        },
        "id": "Vuh8Uwc8MvFZ",
        "outputId": "0e68abfc-cce8-4803-a91a-e6a848d8d58b"
      },
      "outputs": [
        {
          "data": {
            "text/html": [
              "<style>#sk-container-id-1 {color: black;background-color: white;}#sk-container-id-1 pre{padding: 0;}#sk-container-id-1 div.sk-toggleable {background-color: white;}#sk-container-id-1 label.sk-toggleable__label {cursor: pointer;display: block;width: 100%;margin-bottom: 0;padding: 0.3em;box-sizing: border-box;text-align: center;}#sk-container-id-1 label.sk-toggleable__label-arrow:before {content: \"▸\";float: left;margin-right: 0.25em;color: #696969;}#sk-container-id-1 label.sk-toggleable__label-arrow:hover:before {color: black;}#sk-container-id-1 div.sk-estimator:hover label.sk-toggleable__label-arrow:before {color: black;}#sk-container-id-1 div.sk-toggleable__content {max-height: 0;max-width: 0;overflow: hidden;text-align: left;background-color: #f0f8ff;}#sk-container-id-1 div.sk-toggleable__content pre {margin: 0.2em;color: black;border-radius: 0.25em;background-color: #f0f8ff;}#sk-container-id-1 input.sk-toggleable__control:checked~div.sk-toggleable__content {max-height: 200px;max-width: 100%;overflow: auto;}#sk-container-id-1 input.sk-toggleable__control:checked~label.sk-toggleable__label-arrow:before {content: \"▾\";}#sk-container-id-1 div.sk-estimator input.sk-toggleable__control:checked~label.sk-toggleable__label {background-color: #d4ebff;}#sk-container-id-1 div.sk-label input.sk-toggleable__control:checked~label.sk-toggleable__label {background-color: #d4ebff;}#sk-container-id-1 input.sk-hidden--visually {border: 0;clip: rect(1px 1px 1px 1px);clip: rect(1px, 1px, 1px, 1px);height: 1px;margin: -1px;overflow: hidden;padding: 0;position: absolute;width: 1px;}#sk-container-id-1 div.sk-estimator {font-family: monospace;background-color: #f0f8ff;border: 1px dotted black;border-radius: 0.25em;box-sizing: border-box;margin-bottom: 0.5em;}#sk-container-id-1 div.sk-estimator:hover {background-color: #d4ebff;}#sk-container-id-1 div.sk-parallel-item::after {content: \"\";width: 100%;border-bottom: 1px solid gray;flex-grow: 1;}#sk-container-id-1 div.sk-label:hover label.sk-toggleable__label {background-color: #d4ebff;}#sk-container-id-1 div.sk-serial::before {content: \"\";position: absolute;border-left: 1px solid gray;box-sizing: border-box;top: 0;bottom: 0;left: 50%;z-index: 0;}#sk-container-id-1 div.sk-serial {display: flex;flex-direction: column;align-items: center;background-color: white;padding-right: 0.2em;padding-left: 0.2em;position: relative;}#sk-container-id-1 div.sk-item {position: relative;z-index: 1;}#sk-container-id-1 div.sk-parallel {display: flex;align-items: stretch;justify-content: center;background-color: white;position: relative;}#sk-container-id-1 div.sk-item::before, #sk-container-id-1 div.sk-parallel-item::before {content: \"\";position: absolute;border-left: 1px solid gray;box-sizing: border-box;top: 0;bottom: 0;left: 50%;z-index: -1;}#sk-container-id-1 div.sk-parallel-item {display: flex;flex-direction: column;z-index: 1;position: relative;background-color: white;}#sk-container-id-1 div.sk-parallel-item:first-child::after {align-self: flex-end;width: 50%;}#sk-container-id-1 div.sk-parallel-item:last-child::after {align-self: flex-start;width: 50%;}#sk-container-id-1 div.sk-parallel-item:only-child::after {width: 0;}#sk-container-id-1 div.sk-dashed-wrapped {border: 1px dashed gray;margin: 0 0.4em 0.5em 0.4em;box-sizing: border-box;padding-bottom: 0.4em;background-color: white;}#sk-container-id-1 div.sk-label label {font-family: monospace;font-weight: bold;display: inline-block;line-height: 1.2em;}#sk-container-id-1 div.sk-label-container {text-align: center;}#sk-container-id-1 div.sk-container {/* jupyter's `normalize.less` sets `[hidden] { display: none; }` but bootstrap.min.css set `[hidden] { display: none !important; }` so we also need the `!important` here to be able to override the default hidden behavior on the sphinx rendered scikit-learn.org. See: https://github.com/scikit-learn/scikit-learn/issues/21755 */display: inline-block !important;position: relative;}#sk-container-id-1 div.sk-text-repr-fallback {display: none;}</style><div id=\"sk-container-id-1\" class=\"sk-top-container\"><div class=\"sk-text-repr-fallback\"><pre>LinearRegression()</pre><b>In a Jupyter environment, please rerun this cell to show the HTML representation or trust the notebook. <br />On GitHub, the HTML representation is unable to render, please try loading this page with nbviewer.org.</b></div><div class=\"sk-container\" hidden><div class=\"sk-item\"><div class=\"sk-estimator sk-toggleable\"><input class=\"sk-toggleable__control sk-hidden--visually\" id=\"sk-estimator-id-1\" type=\"checkbox\" checked><label for=\"sk-estimator-id-1\" class=\"sk-toggleable__label sk-toggleable__label-arrow\">LinearRegression</label><div class=\"sk-toggleable__content\"><pre>LinearRegression()</pre></div></div></div></div></div>"
            ],
            "text/plain": [
              "LinearRegression()"
            ]
          },
          "execution_count": 30,
          "metadata": {},
          "output_type": "execute_result"
        }
      ],
      "source": [
        "lr_fire=LinearRegression()\n",
        "lr_fire.fit(X_train_scaled, y_train)"
      ]
    },
    {
      "cell_type": "code",
      "execution_count": null,
      "metadata": {
        "colab": {
          "base_uri": "https://localhost:8080/"
        },
        "id": "0LNbuSovM1lq",
        "outputId": "2c3adb39-6c90-4f43-cbdb-5c60249715a5"
      },
      "outputs": [
        {
          "data": {
            "text/plain": [
              "(array([ 0.11276741,  0.08314116, -0.04641894, -0.02438079, -0.70055477,\n",
              "         0.20081159, -0.08185314,  4.04668157,  1.65943148, -0.04585707,\n",
              "         0.14359178]),\n",
              " 6.1614035087719285)"
            ]
          },
          "execution_count": 31,
          "metadata": {},
          "output_type": "execute_result"
        }
      ],
      "source": [
        "lr_fire.coef_, lr_fire.intercept_"
      ]
    },
    {
      "cell_type": "code",
      "execution_count": null,
      "metadata": {
        "id": "--PcvcrPM3vr"
      },
      "outputs": [],
      "source": [
        "y_pred = lr_fire.predict(X_test_scaled)"
      ]
    },
    {
      "cell_type": "code",
      "execution_count": null,
      "metadata": {
        "colab": {
          "base_uri": "https://localhost:8080/"
        },
        "id": "fCTYjnmlM58p",
        "outputId": "48027217-cff8-4e78-d132-e32bd8f811a6"
      },
      "outputs": [
        {
          "name": "stdout",
          "output_type": "stream",
          "text": [
            "0.1213545218026528 0.27626383244161123 0.9940000286399581\n"
          ]
        }
      ],
      "source": [
        "mse = mean_squared_error(y_test, y_pred)\n",
        "mae = mean_absolute_error(y_test, y_pred)\n",
        "r2 = r2_score(y_test, y_pred)\n",
        "\n",
        "print(mse, mae, r2)"
      ]
    },
    {
      "cell_type": "code",
      "execution_count": null,
      "metadata": {
        "id": "hR9x1YvUM9Ct"
      },
      "outputs": [],
      "source": [
        "pickle.dump(lr_fire, open('lr_fire.pkl', 'wb'))"
      ]
    },
    {
      "cell_type": "code",
      "execution_count": null,
      "metadata": {
        "id": "V12QuSZoM_St"
      },
      "outputs": [],
      "source": [
        "pickle.dump(scaler, open('scaler.pkl', 'wb'))"
      ]
    }
  ],
  "metadata": {
    "colab": {
      "provenance": []
    },
    "kernelspec": {
      "display_name": "Python 3",
      "name": "python3"
    },
    "language_info": {
      "name": "python"
    }
  },
  "nbformat": 4,
  "nbformat_minor": 0
}
